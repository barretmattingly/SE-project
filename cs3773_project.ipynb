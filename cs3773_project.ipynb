{
 "cells": [
  {
   "cell_type": "code",
   "execution_count": 5,
   "metadata": {
    "colab": {},
    "colab_type": "code",
    "id": "FpPV58iOaJiC"
   },
   "outputs": [],
   "source": [
    "ccDic = {}\n",
    "userDic = {}\n"
   ]
  },
  {
   "cell_type": "code",
   "execution_count": null,
   "metadata": {},
   "outputs": [],
   "source": [
    "class CC:\n",
    "    def __init__ (self, last4_=0, custId_=0, name_='', ccNum_=0, ccExp_='', ccv_=0):\n",
    "        self.last4 = last4_\n",
    "        self.custId = custId_\n",
    "        self.name = name_\n",
    "        self.ccNum = ccNum_\n",
    "        self.ccExp = ccExp_\n",
    "        self.ccv = ccv_\n",
    "\n",
    "def createCC(last4, custId, name, ccNum, ccExp, ccv):\n",
    "    ccDic[key] = CC(last4, custId, name, ccNum, ccExp, ccv)\n",
    "\n",
    "def updateCC(cc):\n",
    "    ccDic[last4] = cc\n",
    "\n",
    "def deleteCC(last4):\n",
    "    del ccDic[last4]\n",
    "\n",
    "def loadCC(self):\n",
    "    filepath = 'data/CC.csv'\n",
    "    file = open(filepath, 'r')\n",
    "    for line in file.readlines():\n",
    "        values = line.strip().split(',')\n",
    "        ccDic[values[0]] = values\n",
    "    file.close()\n",
    "\n",
    "def saveCC(self):\n",
    "    filepath = 'data/CC.csv'\n",
    "    file = open(filepath, 'w')\n",
    "    for keys in CCdic.keys():\n",
    "        tmp = ','.join(CCdic[key])\n",
    "        file.write(tmp)\n",
    "    file.close()\n",
    "\n",
    "def printCC(key):\n",
    "    print('\\t%d,%d,%s,%d,%s,%d' %(last4, custId, name, ccNum, ccExp, ccv) )"
   ]
  },
  {
   "cell_type": "code",
   "execution_count": 0,
   "metadata": {
    "colab": {
     "base_uri": "https://localhost:8080/",
     "height": 317
    },
    "colab_type": "code",
    "id": "cuSPJG2phamy",
    "outputId": "bcc4b3f5-69aa-4f74-8f3a-46f68578655a"
   },
   "outputs": [
    {
     "ename": "FileNotFoundError",
     "evalue": "ignored",
     "output_type": "error",
     "traceback": [
      "\u001b[0;31m---------------------------------------------------------------------------\u001b[0m",
      "\u001b[0;31mFileNotFoundError\u001b[0m                         Traceback (most recent call last)",
      "\u001b[0;32m<ipython-input-6-7977b8102e1e>\u001b[0m in \u001b[0;36m<module>\u001b[0;34m()\u001b[0m\n\u001b[1;32m     64\u001b[0m \u001b[0;34m\u001b[0m\u001b[0m\n\u001b[1;32m     65\u001b[0m \u001b[0;34m\u001b[0m\u001b[0m\n\u001b[0;32m---> 66\u001b[0;31m \u001b[0mloaduseromer\u001b[0m\u001b[0;34m(\u001b[0m\u001b[0;34m)\u001b[0m\u001b[0;34m\u001b[0m\u001b[0;34m\u001b[0m\u001b[0m\n\u001b[0m",
      "\u001b[0;32m<ipython-input-3-4c8d88948091>\u001b[0m in \u001b[0;36mloaduseromer\u001b[0;34m()\u001b[0m\n\u001b[1;32m     47\u001b[0m \u001b[0;32mdef\u001b[0m \u001b[0mloaduseromer\u001b[0m\u001b[0;34m(\u001b[0m\u001b[0;34m)\u001b[0m\u001b[0;34m:\u001b[0m\u001b[0;34m\u001b[0m\u001b[0;34m\u001b[0m\u001b[0m\n\u001b[1;32m     48\u001b[0m   \u001b[0mfilepath\u001b[0m \u001b[0;34m=\u001b[0m \u001b[0;34m'useromer.csv'\u001b[0m\u001b[0;34m\u001b[0m\u001b[0;34m\u001b[0m\u001b[0m\n\u001b[0;32m---> 49\u001b[0;31m   \u001b[0mfile\u001b[0m \u001b[0;34m=\u001b[0m \u001b[0mopen\u001b[0m\u001b[0;34m(\u001b[0m\u001b[0mfilepath\u001b[0m\u001b[0;34m,\u001b[0m \u001b[0;34m'r+'\u001b[0m\u001b[0;34m)\u001b[0m\u001b[0;34m\u001b[0m\u001b[0;34m\u001b[0m\u001b[0m\n\u001b[0m\u001b[1;32m     50\u001b[0m   \u001b[0;32mfor\u001b[0m \u001b[0mline\u001b[0m \u001b[0;32min\u001b[0m \u001b[0mfile\u001b[0m\u001b[0;34m.\u001b[0m\u001b[0mreadlines\u001b[0m\u001b[0;34m(\u001b[0m\u001b[0;34m)\u001b[0m\u001b[0;34m:\u001b[0m\u001b[0;34m\u001b[0m\u001b[0;34m\u001b[0m\u001b[0m\n\u001b[1;32m     51\u001b[0m     \u001b[0mtemp\u001b[0m \u001b[0;34m=\u001b[0m \u001b[0mline\u001b[0m\u001b[0;34m.\u001b[0m\u001b[0msplit\u001b[0m\u001b[0;34m(\u001b[0m\u001b[0;34m','\u001b[0m\u001b[0;34m)\u001b[0m\u001b[0;34m\u001b[0m\u001b[0;34m\u001b[0m\u001b[0m\n",
      "\u001b[0;31mFileNotFoundError\u001b[0m: [Errno 2] No such file or directory: 'useromer.csv'"
     ]
    }
   ],
   "source": [
    "class User:\n",
    "    def _init_ (self, userId_, username_, password_, userType_, firstname_='', lastnmae_='', address_='', zipcode_=0, city_='', state_='', phoneNr_='', email_='', ccList_={}):\n",
    "        self.userId = userId_\n",
    "        self.username = username_\n",
    "        self.password = password_\n",
    "        self.userType = userType\n",
    "        self.firstname = firstname_\n",
    "        self.lastname = lastnmae_\n",
    "        self.address = address_\n",
    "        self.zipcode = zipecode_\n",
    "        self.city = city_\n",
    "        self.state = state_\n",
    "        self.phoneNr = phoneNr_\n",
    "        self.email = email_\n",
    "        self.ccList = ccList_\n",
    "\n",
    "def createUser(userId, username, password, userType, firstname, lastname, address, phoneNr, email, ccList):\n",
    "    userDic[userId] = User(userId, username, password, userType, firstname, lastname, address, phoneNr, email, ccList)\n",
    "\n",
    "def updateUser(useromer):\n",
    "  userDic[useromer.userId] = useromer\n",
    "\n",
    "def deleteUser(userId):\n",
    "  del userDic[userId]\n",
    "\n",
    "\n",
    "'''\n",
    "return 0 - useromer information correct\n",
    "return 1 - incorrect password\n",
    "return 2 - incorrect username (useromer does not exist)\n",
    "'''\n",
    "def validateLogin(username, password):\n",
    "  for key in useromerDic.keys():\n",
    "    tmpuser = userDic[key]\n",
    "    if tmpuser.username == username:\n",
    "      if tmpuser.password == password:\n",
    "        return 0\n",
    "      else:      \n",
    "        return 1\n",
    "  return 2\n",
    "\n",
    "def loadUser():\n",
    "  filepath = 'users.csv'\n",
    "  file = open(filepath, 'r+')\n",
    "  for line in file.readlines():\n",
    "    temp = line.split(',')\n",
    "    createUser(temp[0],temp[1],temp[2],temp[3],temp[4],temp[5],temp[6],temp[7],temp[8], dict())\n",
    "\n",
    "def printUser(user):\n",
    "  print('userId:', user.id)\n",
    "  print('username:', user.username)\n",
    "  print('password:', user.password)\n",
    "  print('type:', user.userType)\n",
    "  print('firstname:', user.firstname)\n",
    "  print('lastname:', user.lastname)\n",
    "  print('address:', user.address)\n",
    "  print('phoneNr:', user.phoneNr)\n",
    "  print('email:', user.email)\n",
    "  \n",
    "  \n",
    "loaduseromer()"
   ]
  },
  {
   "cell_type": "code",
   "execution_count": 2,
   "metadata": {
    "colab": {},
    "colab_type": "code",
    "id": "6FZ-wQZNU41_"
   },
   "outputs": [],
   "source": [
    "produceDic = {}\n",
    "\n",
    "class Produce:\n",
    "  def __init__ (self, id_, name_, price_, qty_):\n",
    "    self.id = id_\n",
    "    self.name = name_\n",
    "    self.price = price_\n",
    "    self.qty = qty_\n",
    "\n",
    "def createProduce(id, name, price, qty):\n",
    "  produceDic[id] = Produce(id, name, price, qty)\n",
    "\n",
    "def readProduce():\n",
    "  return 1\n",
    "\n",
    "def updateProduce(produce):\n",
    "  produceDic[produce.id] = produce\n",
    "\n",
    "def deleteProduce(id):\n",
    "  del produceDic[id]\n",
    "\n",
    "  "
   ]
  },
  {
   "cell_type": "code",
   "execution_count": null,
   "metadata": {},
   "outputs": [],
   "source": []
  }
 ],
 "metadata": {
  "colab": {
   "collapsed_sections": [],
   "name": "cs3773_project.ipynb",
   "provenance": []
  },
  "kernelspec": {
   "display_name": "Python 3",
   "language": "python",
   "name": "python3"
  },
  "language_info": {
   "codemirror_mode": {
    "name": "ipython",
    "version": 3
   },
   "file_extension": ".py",
   "mimetype": "text/x-python",
   "name": "python",
   "nbconvert_exporter": "python",
   "pygments_lexer": "ipython3",
   "version": "3.7.1"
  }
 },
 "nbformat": 4,
 "nbformat_minor": 1
}
